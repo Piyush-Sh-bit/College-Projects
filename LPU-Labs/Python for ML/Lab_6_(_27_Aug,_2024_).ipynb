{
  "nbformat": 4,
  "nbformat_minor": 0,
  "metadata": {
    "colab": {
      "provenance": []
    },
    "kernelspec": {
      "name": "python3",
      "display_name": "Python 3"
    },
    "language_info": {
      "name": "python"
    }
  },
  "cells": [
    {
      "cell_type": "markdown",
      "source": [
        "Rock Paper Scissor Game with Compute with random function"
      ],
      "metadata": {
        "id": "xUCTX3w2-G6W"
      }
    },
    {
      "cell_type": "code",
      "source": [
        "import random\n",
        "\n",
        "def get_choices():\n",
        "  user_choice = input(\"Enter a choice (rock, paper, scissors): \")\n",
        "  possible_actions = [\"rock\", \"paper\", \"scissors\"]\n",
        "  computer_choice = random.choice(possible_actions)\n",
        "  print(f\"\\nYou chose {user_choice}, computer chose {computer_choice}.\\n\")\n",
        "  return user_choice, computer_choice\n",
        "\n",
        "def check_win(user_choice, computer_choice):\n",
        "  if user_choice == computer_choice:\n",
        "    print(f\"Both players selected {user_choice}. It's a tie!\")\n",
        "  elif user_choice == \"rock\":\n",
        "    if computer_choice == \"scissors\":\n",
        "      print(\"Rock smashes scissors! You win!\")\n",
        "    else:\n",
        "      print(\"Paper covers rock! You lose.\")\n",
        "  elif user_choice == \"paper\":\n",
        "    if computer_choice == \"rock\":\n",
        "      print(\"Paper covers rock! You win!\")\n",
        "    else:\n",
        "      print(\"Scissors cuts paper! You lose.\")\n",
        "  elif user_choice == \"scissors\":\n",
        "    if computer_choice == \"paper\":\n",
        "      print(\"Scissors cuts paper! You win!\")\n",
        "    else:\n",
        "      print(\"Rock smashes scissors! You lose.\")\n",
        "\n",
        "user_choice, computer_choice = get_choices()\n",
        "check_win(user_choice, computer_choice)"
      ],
      "metadata": {
        "colab": {
          "base_uri": "https://localhost:8080/"
        },
        "id": "2MqxOF6H-bC8",
        "outputId": "03005e0b-3b22-4ae5-e900-45be4feeb059"
      },
      "execution_count": 1,
      "outputs": [
        {
          "output_type": "stream",
          "name": "stdout",
          "text": [
            "Enter a choice (rock, paper, scissors): rock\n",
            "\n",
            "You chose rock, computer chose scissors.\n",
            "\n",
            "Rock smashes scissors! You win!\n"
          ]
        }
      ]
    },
    {
      "cell_type": "markdown",
      "source": [
        " Extract domain name from stephen.marquard@uct.ac.za Sat Jan 5 09:14:16 2008"
      ],
      "metadata": {
        "id": "8eED2bSHNYkZ"
      }
    },
    {
      "cell_type": "code",
      "source": [
        "text = 'piyush.sh469@gmail.com '\n",
        "atpos = text.find('@')\n",
        "sppos = text.find(' ',atpos)\n",
        "host = text[atpos+1 : sppos]\n",
        "print(host)"
      ],
      "metadata": {
        "colab": {
          "base_uri": "https://localhost:8080/"
        },
        "id": "avmdzYoPO0nR",
        "outputId": "319e2197-8710-48d5-a5b4-92042e4cd471"
      },
      "execution_count": 9,
      "outputs": [
        {
          "output_type": "stream",
          "name": "stdout",
          "text": [
            "gmail.com\n"
          ]
        }
      ]
    }
  ]
}